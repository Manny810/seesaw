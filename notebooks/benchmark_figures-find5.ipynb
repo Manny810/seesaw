{
 "cells": [
  {
   "cell_type": "code",
   "execution_count": 9,
   "id": "59007099",
   "metadata": {
    "ExecuteTime": {
     "end_time": "2022-01-25T17:40:43.672110Z",
     "start_time": "2022-01-25T17:40:43.670408Z"
    }
   },
   "outputs": [],
   "source": [
    "import seesaw"
   ]
  },
  {
   "cell_type": "code",
   "execution_count": 10,
   "id": "82cfb2df",
   "metadata": {
    "ExecuteTime": {
     "end_time": "2022-01-25T17:40:43.852461Z",
     "start_time": "2022-01-25T17:40:43.850771Z"
    }
   },
   "outputs": [],
   "source": [
    "import os\n",
    "import importlib\n",
    "import numpy as np\n",
    "from tqdm.auto import tqdm"
   ]
  },
  {
   "cell_type": "code",
   "execution_count": 11,
   "id": "9290a288",
   "metadata": {
    "ExecuteTime": {
     "end_time": "2022-01-25T17:40:44.040274Z",
     "start_time": "2022-01-25T17:40:44.038812Z"
    }
   },
   "outputs": [],
   "source": [
    "import ray"
   ]
  },
  {
   "cell_type": "code",
   "execution_count": 12,
   "id": "1452ebe9",
   "metadata": {
    "ExecuteTime": {
     "end_time": "2022-01-25T17:40:44.210240Z",
     "start_time": "2022-01-25T17:40:44.202790Z"
    }
   },
   "outputs": [],
   "source": [
    "import seesaw.seesaw_bench\n",
    "import seesaw.figures\n",
    "\n",
    "importlib.reload(seesaw.seesaw_bench)\n",
    "importlib.reload(seesaw.figures)\n",
    "\n",
    "from seesaw.seesaw_bench import *\n",
    "from seesaw.figures import *"
   ]
  },
  {
   "cell_type": "code",
   "execution_count": 14,
   "id": "3884b686",
   "metadata": {
    "ExecuteTime": {
     "end_time": "2022-01-25T17:40:49.832869Z",
     "start_time": "2022-01-25T17:40:49.579844Z"
    }
   },
   "outputs": [
    {
     "name": "stderr",
     "output_type": "stream",
     "text": [
      "2022-01-25 12:40:49,587\tINFO worker.py:842 -- Connecting to existing Ray cluster at address: 172.31.130.200:6379\n"
     ]
    },
    {
     "data": {
      "text/plain": [
       "{'node_ip_address': '172.31.130.200',\n",
       " 'raylet_ip_address': '172.31.130.200',\n",
       " 'redis_address': '172.31.130.200:6379',\n",
       " 'object_store_address': '/state/partition1/user/omoll/raytmp/session_2022-01-25_12-37-17_759625_39485/sockets/plasma_store',\n",
       " 'raylet_socket_name': '/state/partition1/user/omoll/raytmp/session_2022-01-25_12-37-17_759625_39485/sockets/raylet',\n",
       " 'webui_url': '127.0.0.1:8265',\n",
       " 'session_dir': '/state/partition1/user/omoll/raytmp/session_2022-01-25_12-37-17_759625_39485',\n",
       " 'metrics_export_port': 39144,\n",
       " 'node_id': '12b317727916d143be3aa1e362af19a2623a2ac3039a0bd5a3cc0c7d'}"
      ]
     },
     "execution_count": 14,
     "metadata": {},
     "output_type": "execute_result"
    },
    {
     "name": "stderr",
     "output_type": "stream",
     "text": [
      "2022-01-25 12:40:49,830\tWARNING worker.py:1219 -- The autoscaler failed with the following error:\n",
      "Terminated with signal 15\n",
      "  File \"/home/gridsan/omoll/.local/lib/python3.8/site-packages/ray/autoscaler/_private/monitor.py\", line 543, in <module>\n",
      "    monitor.run()\n",
      "  File \"/home/gridsan/omoll/.local/lib/python3.8/site-packages/ray/autoscaler/_private/monitor.py\", line 439, in run\n",
      "    self._run()\n",
      "  File \"/home/gridsan/omoll/.local/lib/python3.8/site-packages/ray/autoscaler/_private/monitor.py\", line 346, in _run\n",
      "    time.sleep(AUTOSCALER_UPDATE_INTERVAL_S)\n",
      "\n"
     ]
    }
   ],
   "source": [
    "ray.init('auto', namespace='seesaw')"
   ]
  },
  {
   "cell_type": "code",
   "execution_count": 15,
   "id": "32d062e6",
   "metadata": {
    "ExecuteTime": {
     "end_time": "2022-01-25T17:40:50.682474Z",
     "start_time": "2022-01-25T17:40:50.680196Z"
    }
   },
   "outputs": [],
   "source": [
    "import importlib"
   ]
  },
  {
   "cell_type": "code",
   "execution_count": 16,
   "id": "f1013cb0",
   "metadata": {
    "ExecuteTime": {
     "end_time": "2022-01-25T17:41:59.960732Z",
     "start_time": "2022-01-25T17:41:00.867884Z"
    }
   },
   "outputs": [
    {
     "name": "stderr",
     "output_type": "stream",
     "text": [
      "Map Progress: 100%|██████████| 200/200 [00:01<00:00, 169.56it/s]\n",
      "/home/gridsan/omoll/seesaw/seesaw/figures.py:163: RuntimeWarning: invalid value encountered in floor_divide\n"
     ]
    }
   ],
   "source": [
    "results_path = '/home/gridsan/omoll/bench_results/bench_eQtGlaAAtM/'\n",
    "stats = get_metrics_table(results_path, at_N=300)"
   ]
  },
  {
   "cell_type": "code",
   "execution_count": 17,
   "id": "d45216a1",
   "metadata": {
    "ExecuteTime": {
     "end_time": "2022-01-25T17:42:05.051886Z",
     "start_time": "2022-01-25T17:42:04.886960Z"
    }
   },
   "outputs": [],
   "source": [
    "stats.to_parquet('/home/gridsan/omoll/bench_results/bench_eQtGlaAAtM/computed_metrics.parquet')"
   ]
  },
  {
   "cell_type": "code",
   "execution_count": 18,
   "id": "da884a56",
   "metadata": {
    "ExecuteTime": {
     "end_time": "2022-01-25T17:42:05.923883Z",
     "start_time": "2022-01-25T17:42:05.918410Z"
    }
   },
   "outputs": [],
   "source": [
    "stats = stats.assign(dataset=stats.d_name,\n",
    "                     index_name=stats.i_name,\n",
    "                        category=stats.ground_truth_category,\n",
    "                     variant=stats.name)"
   ]
  },
  {
   "cell_type": "code",
   "execution_count": 19,
   "id": "8ebecf89",
   "metadata": {
    "ExecuteTime": {
     "end_time": "2022-01-25T17:42:07.541498Z",
     "start_time": "2022-01-25T17:42:07.533978Z"
    }
   },
   "outputs": [],
   "source": [
    "stats = stats.assign(variant=stats.variant.map(lambda x : {'baseline':'plain', 'multi':'multiplain'}.get(x,x)))"
   ]
  },
  {
   "cell_type": "code",
   "execution_count": 20,
   "id": "5d85b6a6",
   "metadata": {
    "ExecuteTime": {
     "end_time": "2022-01-25T17:42:09.084732Z",
     "start_time": "2022-01-25T17:42:09.079756Z"
    }
   },
   "outputs": [],
   "source": [
    "stats = stats.assign(reciprocal_12=1./stats.nfirst2second_batch)"
   ]
  },
  {
   "cell_type": "code",
   "execution_count": 21,
   "id": "9e524431",
   "metadata": {
    "ExecuteTime": {
     "end_time": "2022-01-25T17:42:16.968652Z",
     "start_time": "2022-01-25T17:42:16.965388Z"
    }
   },
   "outputs": [
    {
     "data": {
      "text/plain": [
       "21"
      ]
     },
     "execution_count": 21,
     "metadata": {},
     "output_type": "execute_result"
    }
   ],
   "source": [
    "(stats.nfirst == np.inf).sum()"
   ]
  },
  {
   "cell_type": "code",
   "execution_count": 22,
   "id": "64b29e62",
   "metadata": {
    "ExecuteTime": {
     "end_time": "2022-01-25T17:42:22.340657Z",
     "start_time": "2022-01-25T17:42:22.331956Z"
    }
   },
   "outputs": [
    {
     "data": {
      "text/plain": [
       "dataset\n",
       "data/bdd/            0\n",
       "data/coco/           0\n",
       "data/dota/           0\n",
       "data/lvis/         207\n",
       "data/objectnet/      0\n",
       "Name: first2sec_NA, dtype: int64"
      ]
     },
     "execution_count": 22,
     "metadata": {},
     "output_type": "execute_result"
    }
   ],
   "source": [
    "stats.assign(first2sec_NA=stats.nfirst2second_batch.isna()).groupby(['dataset']).first2sec_NA.sum()"
   ]
  },
  {
   "cell_type": "code",
   "execution_count": 60,
   "id": "c3c7992b",
   "metadata": {
    "ExecuteTime": {
     "end_time": "2022-01-25T18:20:58.544354Z",
     "start_time": "2022-01-25T18:20:58.542570Z"
    }
   },
   "outputs": [],
   "source": [
    "# paper: stop at 10 batches of 3\n",
    "## check NDCG score of that.\n",
    "\n",
    "### task"
   ]
  },
  {
   "cell_type": "code",
   "execution_count": null,
   "id": "6257ad2c",
   "metadata": {},
   "outputs": [],
   "source": []
  },
  {
   "cell_type": "code",
   "execution_count": 24,
   "id": "62ea41da",
   "metadata": {
    "ExecuteTime": {
     "end_time": "2022-01-25T17:42:46.683772Z",
     "start_time": "2022-01-25T17:42:45.909846Z"
    },
    "scrolled": false
   },
   "outputs": [
    {
     "name": "stdout",
     "output_type": "stream",
     "text": [
      "by dataset\n"
     ]
    },
    {
     "data": {
      "text/html": [
       "<div>\n",
       "<style scoped>\n",
       "    .dataframe tbody tr th:only-of-type {\n",
       "        vertical-align: middle;\n",
       "    }\n",
       "\n",
       "    .dataframe tbody tr th {\n",
       "        vertical-align: top;\n",
       "    }\n",
       "\n",
       "    .dataframe thead th {\n",
       "        text-align: right;\n",
       "    }\n",
       "</style>\n",
       "<table border=\"1\" class=\"dataframe\">\n",
       "  <thead>\n",
       "    <tr style=\"text-align: right;\">\n",
       "      <th></th>\n",
       "      <th>multiplain</th>\n",
       "      <th>plain</th>\n",
       "      <th>seesaw</th>\n",
       "      <th>num_queries</th>\n",
       "    </tr>\n",
       "    <tr>\n",
       "      <th>dataset</th>\n",
       "      <th></th>\n",
       "      <th></th>\n",
       "      <th></th>\n",
       "      <th></th>\n",
       "    </tr>\n",
       "  </thead>\n",
       "  <tbody>\n",
       "    <tr>\n",
       "      <th>data/bdd/</th>\n",
       "      <td>0.874548</td>\n",
       "      <td>0.952586</td>\n",
       "      <td>0.896552</td>\n",
       "      <td>29</td>\n",
       "    </tr>\n",
       "    <tr>\n",
       "      <th>data/coco/</th>\n",
       "      <td>1.000000</td>\n",
       "      <td>1.000000</td>\n",
       "      <td>1.000000</td>\n",
       "      <td>80</td>\n",
       "    </tr>\n",
       "    <tr>\n",
       "      <th>data/dota/</th>\n",
       "      <td>1.000000</td>\n",
       "      <td>0.911111</td>\n",
       "      <td>1.000000</td>\n",
       "      <td>15</td>\n",
       "    </tr>\n",
       "    <tr>\n",
       "      <th>data/lvis/</th>\n",
       "      <td>0.885921</td>\n",
       "      <td>0.818793</td>\n",
       "      <td>0.893649</td>\n",
       "      <td>1203</td>\n",
       "    </tr>\n",
       "    <tr>\n",
       "      <th>data/objectnet/</th>\n",
       "      <td>0.899807</td>\n",
       "      <td>0.901946</td>\n",
       "      <td>0.902774</td>\n",
       "      <td>313</td>\n",
       "    </tr>\n",
       "  </tbody>\n",
       "</table>\n",
       "</div>"
      ],
      "text/plain": [
       "                 multiplain     plain    seesaw  num_queries\n",
       "dataset                                                     \n",
       "data/bdd/          0.874548  0.952586  0.896552           29\n",
       "data/coco/         1.000000  1.000000  1.000000           80\n",
       "data/dota/         1.000000  0.911111  1.000000           15\n",
       "data/lvis/         0.885921  0.818793  0.893649         1203\n",
       "data/objectnet/    0.899807  0.901946  0.902774          313"
      ]
     },
     "metadata": {},
     "output_type": "display_data"
    },
    {
     "name": "stdout",
     "output_type": "stream",
     "text": [
      "by query\n"
     ]
    },
    {
     "data": {
      "text/html": [
       "<div>\n",
       "<style scoped>\n",
       "    .dataframe tbody tr th:only-of-type {\n",
       "        vertical-align: middle;\n",
       "    }\n",
       "\n",
       "    .dataframe tbody tr th {\n",
       "        vertical-align: top;\n",
       "    }\n",
       "\n",
       "    .dataframe thead th {\n",
       "        text-align: right;\n",
       "    }\n",
       "</style>\n",
       "<table border=\"1\" class=\"dataframe\">\n",
       "  <thead>\n",
       "    <tr style=\"text-align: right;\">\n",
       "      <th></th>\n",
       "      <th>better</th>\n",
       "      <th>same</th>\n",
       "      <th>worse</th>\n",
       "      <th>total</th>\n",
       "    </tr>\n",
       "    <tr>\n",
       "      <th>dataset</th>\n",
       "      <th></th>\n",
       "      <th></th>\n",
       "      <th></th>\n",
       "      <th></th>\n",
       "    </tr>\n",
       "  </thead>\n",
       "  <tbody>\n",
       "    <tr>\n",
       "      <th>data/bdd/</th>\n",
       "      <td>1</td>\n",
       "      <td>24</td>\n",
       "      <td>4</td>\n",
       "      <td>29</td>\n",
       "    </tr>\n",
       "    <tr>\n",
       "      <th>data/coco/</th>\n",
       "      <td>0</td>\n",
       "      <td>80</td>\n",
       "      <td>0</td>\n",
       "      <td>80</td>\n",
       "    </tr>\n",
       "    <tr>\n",
       "      <th>data/dota/</th>\n",
       "      <td>2</td>\n",
       "      <td>13</td>\n",
       "      <td>0</td>\n",
       "      <td>15</td>\n",
       "    </tr>\n",
       "    <tr>\n",
       "      <th>data/lvis/</th>\n",
       "      <td>219</td>\n",
       "      <td>850</td>\n",
       "      <td>59</td>\n",
       "      <td>1128</td>\n",
       "    </tr>\n",
       "    <tr>\n",
       "      <th>data/objectnet/</th>\n",
       "      <td>21</td>\n",
       "      <td>282</td>\n",
       "      <td>10</td>\n",
       "      <td>313</td>\n",
       "    </tr>\n",
       "    <tr>\n",
       "      <th>total</th>\n",
       "      <td>243</td>\n",
       "      <td>1249</td>\n",
       "      <td>73</td>\n",
       "      <td>1565</td>\n",
       "    </tr>\n",
       "  </tbody>\n",
       "</table>\n",
       "</div>"
      ],
      "text/plain": [
       "                 better  same  worse  total\n",
       "dataset                                    \n",
       "data/bdd/             1    24      4     29\n",
       "data/coco/            0    80      0     80\n",
       "data/dota/            2    13      0     15\n",
       "data/lvis/          219   850     59   1128\n",
       "data/objectnet/      21   282     10    313\n",
       "total               243  1249     73   1565"
      ]
     },
     "metadata": {},
     "output_type": "display_data"
    },
    {
     "name": "stdout",
     "output_type": "stream",
     "text": [
      "\\begin{tabular}{lrrrr}\n",
      "\\toprule\n",
      "{} &  better &  same &  worse &  total \\\\\n",
      "dataset         &         &       &        &        \\\\\n",
      "\\midrule\n",
      "data/bdd/       &       1 &    24 &      4 &     29 \\\\\n",
      "data/coco/      &       0 &    80 &      0 &     80 \\\\\n",
      "data/dota/      &       2 &    13 &      0 &     15 \\\\\n",
      "data/lvis/      &     219 &   850 &     59 &   1128 \\\\\n",
      "data/objectnet/ &      21 &   282 &     10 &    313 \\\\\n",
      "total           &     243 &  1249 &     73 &   1565 \\\\\n",
      "\\bottomrule\n",
      "\\end{tabular}\n",
      "\n",
      "breakdown by initial res\n",
      "total_counts:  1640.0\n"
     ]
    },
    {
     "data": {
      "text/html": [
       "<div>\n",
       "<style scoped>\n",
       "    .dataframe tbody tr th:only-of-type {\n",
       "        vertical-align: middle;\n",
       "    }\n",
       "\n",
       "    .dataframe tbody tr th {\n",
       "        vertical-align: top;\n",
       "    }\n",
       "\n",
       "    .dataframe thead th {\n",
       "        text-align: right;\n",
       "    }\n",
       "</style>\n",
       "<table border=\"1\" class=\"dataframe\">\n",
       "  <thead>\n",
       "    <tr style=\"text-align: right;\">\n",
       "      <th>part</th>\n",
       "      <th>.1</th>\n",
       "      <th>.3</th>\n",
       "      <th>1.</th>\n",
       "    </tr>\n",
       "    <tr>\n",
       "      <th>variant</th>\n",
       "      <th></th>\n",
       "      <th></th>\n",
       "      <th></th>\n",
       "    </tr>\n",
       "  </thead>\n",
       "  <tbody>\n",
       "    <tr>\n",
       "      <th>counts</th>\n",
       "      <td>170</td>\n",
       "      <td>80</td>\n",
       "      <td>1390</td>\n",
       "    </tr>\n",
       "    <tr>\n",
       "      <th>baseline</th>\n",
       "      <td>.05</td>\n",
       "      <td>.17</td>\n",
       "      <td>.97</td>\n",
       "    </tr>\n",
       "    <tr>\n",
       "      <th>this work</th>\n",
       "      <td>.29</td>\n",
       "      <td>.56</td>\n",
       "      <td>.96</td>\n",
       "    </tr>\n",
       "    <tr>\n",
       "      <th>ratio</th>\n",
       "      <td>5.59</td>\n",
       "      <td>3.37</td>\n",
       "      <td>1.00</td>\n",
       "    </tr>\n",
       "  </tbody>\n",
       "</table>\n",
       "</div>"
      ],
      "text/plain": [
       "part        .1   .3   1.\n",
       "variant                 \n",
       "counts     170   80 1390\n",
       "baseline   .05  .17  .97\n",
       "this work  .29  .56  .96\n",
       "ratio     5.59 3.37 1.00"
      ]
     },
     "metadata": {},
     "output_type": "display_data"
    },
    {
     "name": "stdout",
     "output_type": "stream",
     "text": [
      "\\begin{tabular}{lrrr}\n",
      "\\toprule\n",
      "part &   .1 &   .3 &   1. \\\\\n",
      "variant   &      &      &      \\\\\n",
      "\\midrule\n",
      "counts    &  170 &   80 & 1390 \\\\\n",
      "baseline  &  .05 &  .17 &  .97 \\\\\n",
      "this work &  .29 &  .56 &  .96 \\\\\n",
      "ratio     & 5.59 & 3.37 & 1.00 \\\\\n",
      "\\bottomrule\n",
      "\\end{tabular}\n",
      "\n",
      "ablation\n"
     ]
    },
    {
     "data": {
      "text/html": [
       "<div>\n",
       "<style scoped>\n",
       "    .dataframe tbody tr th:only-of-type {\n",
       "        vertical-align: middle;\n",
       "    }\n",
       "\n",
       "    .dataframe tbody tr th {\n",
       "        vertical-align: top;\n",
       "    }\n",
       "\n",
       "    .dataframe thead th {\n",
       "        text-align: right;\n",
       "    }\n",
       "</style>\n",
       "<table border=\"1\" class=\"dataframe\">\n",
       "  <thead>\n",
       "    <tr style=\"text-align: right;\">\n",
       "      <th>part</th>\n",
       "      <th>.1</th>\n",
       "      <th>.1 delta</th>\n",
       "      <th>.3</th>\n",
       "      <th>.3 delta</th>\n",
       "      <th>1.</th>\n",
       "      <th>1. delta</th>\n",
       "    </tr>\n",
       "    <tr>\n",
       "      <th>variant</th>\n",
       "      <th></th>\n",
       "      <th></th>\n",
       "      <th></th>\n",
       "      <th></th>\n",
       "      <th></th>\n",
       "      <th></th>\n",
       "    </tr>\n",
       "  </thead>\n",
       "  <tbody>\n",
       "    <tr>\n",
       "      <th>semantic embeddding</th>\n",
       "      <td>.05</td>\n",
       "      <td>NaN</td>\n",
       "      <td>.17</td>\n",
       "      <td>NaN</td>\n",
       "      <td>.97</td>\n",
       "      <td>NaN</td>\n",
       "    </tr>\n",
       "    <tr>\n",
       "      <th>+ multiscale search</th>\n",
       "      <td>.22</td>\n",
       "      <td>.17</td>\n",
       "      <td>.46</td>\n",
       "      <td>.29</td>\n",
       "      <td>.96</td>\n",
       "      <td>-0.01</td>\n",
       "    </tr>\n",
       "    <tr>\n",
       "      <th>+ feedback fusion</th>\n",
       "      <td>.29</td>\n",
       "      <td>.07</td>\n",
       "      <td>.56</td>\n",
       "      <td>.10</td>\n",
       "      <td>.96</td>\n",
       "      <td>.00</td>\n",
       "    </tr>\n",
       "  </tbody>\n",
       "</table>\n",
       "</div>"
      ],
      "text/plain": [
       "part                 .1  .1 delta  .3  .3 delta  1.  1. delta\n",
       "variant                                                      \n",
       "semantic embeddding .05       NaN .17       NaN .97       NaN\n",
       "+ multiscale search .22       .17 .46       .29 .96     -0.01\n",
       "+ feedback fusion   .29       .07 .56       .10 .96       .00"
      ]
     },
     "metadata": {},
     "output_type": "display_data"
    },
    {
     "name": "stdout",
     "output_type": "stream",
     "text": [
      "\\begin{tabular}{lrrrrrr}\n",
      "\\toprule\n",
      "part &  .1 &  .1 delta &  .3 &  .3 delta &  1. &  1. delta \\\\\n",
      "variant             &     &           &     &           &     &           \\\\\n",
      "\\midrule\n",
      "semantic embeddding & .05 &       NaN & .17 &       NaN & .97 &       NaN \\\\\n",
      "+ multiscale search & .22 &       .17 & .46 &       .29 & .96 &     -0.01 \\\\\n",
      "+ feedback fusion   & .29 &       .07 & .56 &       .10 & .96 &       .00 \\\\\n",
      "\\bottomrule\n",
      "\\end{tabular}\n",
      "\n"
     ]
    },
    {
     "data": {
      "text/html": [
       "<div>\n",
       "<style scoped>\n",
       "    .dataframe tbody tr th:only-of-type {\n",
       "        vertical-align: middle;\n",
       "    }\n",
       "\n",
       "    .dataframe tbody tr th {\n",
       "        vertical-align: top;\n",
       "    }\n",
       "\n",
       "    .dataframe thead th {\n",
       "        text-align: right;\n",
       "    }\n",
       "</style>\n",
       "<table border=\"1\" class=\"dataframe\">\n",
       "  <thead>\n",
       "    <tr style=\"text-align: right;\">\n",
       "      <th>part</th>\n",
       "      <th>.1</th>\n",
       "      <th>.1 delta</th>\n",
       "      <th>.3</th>\n",
       "      <th>.3 delta</th>\n",
       "      <th>1.</th>\n",
       "      <th>1. delta</th>\n",
       "    </tr>\n",
       "    <tr>\n",
       "      <th>variant</th>\n",
       "      <th></th>\n",
       "      <th></th>\n",
       "      <th></th>\n",
       "      <th></th>\n",
       "      <th></th>\n",
       "      <th></th>\n",
       "    </tr>\n",
       "  </thead>\n",
       "  <tbody>\n",
       "    <tr>\n",
       "      <th>semantic embeddding</th>\n",
       "      <td>0.051932</td>\n",
       "      <td>NaN</td>\n",
       "      <td>0.166017</td>\n",
       "      <td>NaN</td>\n",
       "      <td>0.965933</td>\n",
       "      <td>NaN</td>\n",
       "    </tr>\n",
       "    <tr>\n",
       "      <th>+ multiscale search</th>\n",
       "      <td>0.218687</td>\n",
       "      <td>0.166755</td>\n",
       "      <td>0.459714</td>\n",
       "      <td>0.293697</td>\n",
       "      <td>0.960406</td>\n",
       "      <td>-0.005527</td>\n",
       "    </tr>\n",
       "    <tr>\n",
       "      <th>+ feedback fusion</th>\n",
       "      <td>0.290310</td>\n",
       "      <td>0.071623</td>\n",
       "      <td>0.559465</td>\n",
       "      <td>0.099751</td>\n",
       "      <td>0.963952</td>\n",
       "      <td>0.003545</td>\n",
       "    </tr>\n",
       "  </tbody>\n",
       "</table>\n",
       "</div>"
      ],
      "text/plain": [
       "part                       .1  .1 delta        .3  .3 delta        1.  \\\n",
       "variant                                                                 \n",
       "semantic embeddding  0.051932       NaN  0.166017       NaN  0.965933   \n",
       "+ multiscale search  0.218687  0.166755  0.459714  0.293697  0.960406   \n",
       "+ feedback fusion    0.290310  0.071623  0.559465  0.099751  0.963952   \n",
       "\n",
       "part                 1. delta  \n",
       "variant                        \n",
       "semantic embeddding       NaN  \n",
       "+ multiscale search -0.005527  \n",
       "+ feedback fusion    0.003545  "
      ]
     },
     "metadata": {},
     "output_type": "display_data"
    },
    {
     "name": "stderr",
     "output_type": "stream",
     "text": [
      "/home/gridsan/omoll/.local/lib/python3.8/site-packages/plotnine/layer.py:401: PlotnineWarning: geom_point : Removed 75 rows containing missing values.\n"
     ]
    },
    {
     "data": {
      "image/png": "[encoded data removed]",
      "text/plain": [
       "<Figure size 800x500 with 1 Axes>"
      ]
     },
     "metadata": {
      "image/png": {
       "height": 477,
       "width": 686
      }
     },
     "output_type": "display_data"
    },
    {
     "data": {
      "text/plain": [
       "<ggplot: (8789999239677)>"
      ]
     },
     "execution_count": 24,
     "metadata": {},
     "output_type": "execute_result"
    }
   ],
   "source": [
    "print_tables(stats,variant='seesaw', baseline_variant='plain', metric='reciprocal_12', reltol=1.05)"
   ]
  },
  {
   "cell_type": "code",
   "execution_count": 29,
   "id": "62a5f33e",
   "metadata": {
    "ExecuteTime": {
     "end_time": "2022-01-25T17:55:33.939104Z",
     "start_time": "2022-01-25T17:55:33.937380Z"
    }
   },
   "outputs": [],
   "source": [
    "plotdata = Out[24].data"
   ]
  },
  {
   "cell_type": "code",
   "execution_count": 58,
   "id": "7842f374",
   "metadata": {
    "ExecuteTime": {
     "end_time": "2022-01-25T18:11:00.647446Z",
     "start_time": "2022-01-25T18:11:00.644293Z"
    }
   },
   "outputs": [],
   "source": [
    "by_metric = plotdata[plotdata.ratio > 2].sort_values(['ratio'])"
   ]
  },
  {
   "cell_type": "code",
   "execution_count": 59,
   "id": "5cc8922e",
   "metadata": {
    "ExecuteTime": {
     "end_time": "2022-01-25T18:11:05.322941Z",
     "start_time": "2022-01-25T18:11:05.302762Z"
    }
   },
   "outputs": [
    {
     "data": {
      "text/html": [
       "<div>\n",
       "<style scoped>\n",
       "    .dataframe tbody tr th:only-of-type {\n",
       "        vertical-align: middle;\n",
       "    }\n",
       "\n",
       "    .dataframe tbody tr th {\n",
       "        vertical-align: top;\n",
       "    }\n",
       "\n",
       "    .dataframe thead th {\n",
       "        text-align: right;\n",
       "    }\n",
       "</style>\n",
       "<table border=\"1\" class=\"dataframe\">\n",
       "  <thead>\n",
       "    <tr style=\"text-align: right;\">\n",
       "      <th></th>\n",
       "      <th>dataset</th>\n",
       "      <th>category</th>\n",
       "      <th>variant</th>\n",
       "      <th>ntotal</th>\n",
       "      <th>abundance</th>\n",
       "      <th>reciprocal_12</th>\n",
       "      <th>nfound_x</th>\n",
       "      <th>nfirst_x</th>\n",
       "      <th>base_reciprocal_12</th>\n",
       "      <th>nfound_y</th>\n",
       "      <th>nfirst_y</th>\n",
       "      <th>base</th>\n",
       "      <th>ratio</th>\n",
       "      <th>delta</th>\n",
       "      <th>better</th>\n",
       "      <th>worse</th>\n",
       "      <th>same</th>\n",
       "    </tr>\n",
       "  </thead>\n",
       "  <tbody>\n",
       "    <tr>\n",
       "      <th>1521</th>\n",
       "      <td>data/lvis/</td>\n",
       "      <td>palette</td>\n",
       "      <td>seesaw</td>\n",
       "      <td>27</td>\n",
       "      <td>0.026188</td>\n",
       "      <td>0.142857</td>\n",
       "      <td>[1, 2, 3, 4, 5, 6, 7, 8, 9, 10, 11, 12, 13, 14...</td>\n",
       "      <td>49.0</td>\n",
       "      <td>0.066667</td>\n",
       "      <td>[1, 2, 3, 4, 5, 6, 7, 8, 9, 10, 11, 12, 13, 14...</td>\n",
       "      <td>15.0</td>\n",
       "      <td>0.066667</td>\n",
       "      <td>2.142857</td>\n",
       "      <td>0.076190</td>\n",
       "      <td>True</td>\n",
       "      <td>False</td>\n",
       "      <td>False</td>\n",
       "    </tr>\n",
       "    <tr>\n",
       "      <th>4351</th>\n",
       "      <td>data/objectnet/</td>\n",
       "      <td>letter opener</td>\n",
       "      <td>seesaw</td>\n",
       "      <td>68</td>\n",
       "      <td>0.001353</td>\n",
       "      <td>0.166667</td>\n",
       "      <td>[1, 2, 3, 4, 5, 6, 7, 8, 9, 10, 11, 12, 13, 14...</td>\n",
       "      <td>1.0</td>\n",
       "      <td>0.076923</td>\n",
       "      <td>[1, 2, 3, 4, 5, 6, 7, 8, 9, 10, 11, 12, 13, 14...</td>\n",
       "      <td>1.0</td>\n",
       "      <td>0.076923</td>\n",
       "      <td>2.166667</td>\n",
       "      <td>0.089744</td>\n",
       "      <td>True</td>\n",
       "      <td>False</td>\n",
       "      <td>False</td>\n",
       "    </tr>\n",
       "    <tr>\n",
       "      <th>903</th>\n",
       "      <td>data/lvis/</td>\n",
       "      <td>coil</td>\n",
       "      <td>seesaw</td>\n",
       "      <td>5</td>\n",
       "      <td>0.005903</td>\n",
       "      <td>0.166667</td>\n",
       "      <td>[1, 2, 3, 4, 5]</td>\n",
       "      <td>183.0</td>\n",
       "      <td>0.076923</td>\n",
       "      <td>[1, 2, 3, 4, 5]</td>\n",
       "      <td>190.0</td>\n",
       "      <td>0.076923</td>\n",
       "      <td>2.166667</td>\n",
       "      <td>0.089744</td>\n",
       "      <td>True</td>\n",
       "      <td>False</td>\n",
       "      <td>False</td>\n",
       "    </tr>\n",
       "    <tr>\n",
       "      <th>2496</th>\n",
       "      <td>data/lvis/</td>\n",
       "      <td>mitten</td>\n",
       "      <td>seesaw</td>\n",
       "      <td>73</td>\n",
       "      <td>0.070736</td>\n",
       "      <td>0.333333</td>\n",
       "      <td>[1, 2, 3, 4, 5, 6, 7, 8, 9, 10, 11, 12, 13, 14...</td>\n",
       "      <td>1.0</td>\n",
       "      <td>0.142857</td>\n",
       "      <td>[1, 2, 3, 4, 5, 6, 7, 8, 9, 10, 11, 12, 13, 14...</td>\n",
       "      <td>1.0</td>\n",
       "      <td>0.142857</td>\n",
       "      <td>2.333333</td>\n",
       "      <td>0.190476</td>\n",
       "      <td>True</td>\n",
       "      <td>False</td>\n",
       "      <td>False</td>\n",
       "    </tr>\n",
       "    <tr>\n",
       "      <th>4574</th>\n",
       "      <td>data/lvis/</td>\n",
       "      <td>boxing glove</td>\n",
       "      <td>seesaw</td>\n",
       "      <td>8</td>\n",
       "      <td>0.007498</td>\n",
       "      <td>0.333333</td>\n",
       "      <td>[1, 2, 3, 4, 5, 6, 7, 8]</td>\n",
       "      <td>1.0</td>\n",
       "      <td>0.142857</td>\n",
       "      <td>[1, 2, 3, 4, 5, 6, 7, 8]</td>\n",
       "      <td>1.0</td>\n",
       "      <td>0.142857</td>\n",
       "      <td>2.333333</td>\n",
       "      <td>0.190476</td>\n",
       "      <td>True</td>\n",
       "      <td>False</td>\n",
       "      <td>False</td>\n",
       "    </tr>\n",
       "    <tr>\n",
       "      <th>...</th>\n",
       "      <td>...</td>\n",
       "      <td>...</td>\n",
       "      <td>...</td>\n",
       "      <td>...</td>\n",
       "      <td>...</td>\n",
       "      <td>...</td>\n",
       "      <td>...</td>\n",
       "      <td>...</td>\n",
       "      <td>...</td>\n",
       "      <td>...</td>\n",
       "      <td>...</td>\n",
       "      <td>...</td>\n",
       "      <td>...</td>\n",
       "      <td>...</td>\n",
       "      <td>...</td>\n",
       "      <td>...</td>\n",
       "      <td>...</td>\n",
       "    </tr>\n",
       "    <tr>\n",
       "      <th>2927</th>\n",
       "      <td>data/lvis/</td>\n",
       "      <td>bubble gum</td>\n",
       "      <td>seesaw</td>\n",
       "      <td>5</td>\n",
       "      <td>0.004941</td>\n",
       "      <td>1.000000</td>\n",
       "      <td>[1, 2, 3, 4, 5]</td>\n",
       "      <td>1.0</td>\n",
       "      <td>0.026316</td>\n",
       "      <td>[1, 2, 3, 4, 5]</td>\n",
       "      <td>26.0</td>\n",
       "      <td>0.026316</td>\n",
       "      <td>38.000000</td>\n",
       "      <td>0.973684</td>\n",
       "      <td>True</td>\n",
       "      <td>False</td>\n",
       "      <td>False</td>\n",
       "    </tr>\n",
       "    <tr>\n",
       "      <th>1839</th>\n",
       "      <td>data/lvis/</td>\n",
       "      <td>puncher</td>\n",
       "      <td>seesaw</td>\n",
       "      <td>3</td>\n",
       "      <td>0.005566</td>\n",
       "      <td>0.500000</td>\n",
       "      <td>[1, 2, 3]</td>\n",
       "      <td>3.0</td>\n",
       "      <td>0.012987</td>\n",
       "      <td>[1, 2, 3]</td>\n",
       "      <td>28.0</td>\n",
       "      <td>0.012987</td>\n",
       "      <td>38.500000</td>\n",
       "      <td>0.487013</td>\n",
       "      <td>True</td>\n",
       "      <td>False</td>\n",
       "      <td>False</td>\n",
       "    </tr>\n",
       "    <tr>\n",
       "      <th>3683</th>\n",
       "      <td>data/lvis/</td>\n",
       "      <td>radar</td>\n",
       "      <td>seesaw</td>\n",
       "      <td>5</td>\n",
       "      <td>0.005025</td>\n",
       "      <td>1.000000</td>\n",
       "      <td>[1, 2, 3, 4, 5]</td>\n",
       "      <td>6.0</td>\n",
       "      <td>0.023256</td>\n",
       "      <td>[1, 2, 3, 4, 5]</td>\n",
       "      <td>19.0</td>\n",
       "      <td>0.023256</td>\n",
       "      <td>43.000000</td>\n",
       "      <td>0.976744</td>\n",
       "      <td>True</td>\n",
       "      <td>False</td>\n",
       "      <td>False</td>\n",
       "    </tr>\n",
       "    <tr>\n",
       "      <th>1047</th>\n",
       "      <td>data/lvis/</td>\n",
       "      <td>drill</td>\n",
       "      <td>seesaw</td>\n",
       "      <td>21</td>\n",
       "      <td>0.020751</td>\n",
       "      <td>1.000000</td>\n",
       "      <td>[1, 2, 3, 4, 5, 6, 7, 8, 9, 10, 11, 12, 13, 14...</td>\n",
       "      <td>1.0</td>\n",
       "      <td>0.018519</td>\n",
       "      <td>[1, 2, 3, 4, 5, 6, 7, 8, 9, 10, 11, 12, 13, 14...</td>\n",
       "      <td>25.0</td>\n",
       "      <td>0.018519</td>\n",
       "      <td>54.000000</td>\n",
       "      <td>0.981481</td>\n",
       "      <td>True</td>\n",
       "      <td>False</td>\n",
       "      <td>False</td>\n",
       "    </tr>\n",
       "    <tr>\n",
       "      <th>2340</th>\n",
       "      <td>data/lvis/</td>\n",
       "      <td>matchbox</td>\n",
       "      <td>seesaw</td>\n",
       "      <td>12</td>\n",
       "      <td>0.011439</td>\n",
       "      <td>1.000000</td>\n",
       "      <td>[1, 2, 3, 4, 5, 6, 7, 8, 9, 10, 11, 12]</td>\n",
       "      <td>1.0</td>\n",
       "      <td>0.013514</td>\n",
       "      <td>[1, 2, 3, 4, 5, 6, 7, 8, 9, 10, 11, 12]</td>\n",
       "      <td>1.0</td>\n",
       "      <td>0.013514</td>\n",
       "      <td>74.000000</td>\n",
       "      <td>0.986486</td>\n",
       "      <td>True</td>\n",
       "      <td>False</td>\n",
       "      <td>False</td>\n",
       "    </tr>\n",
       "  </tbody>\n",
       "</table>\n",
       "<p>152 rows × 17 columns</p>\n",
       "</div>"
      ],
      "text/plain": [
       "              dataset       category variant  ntotal  abundance  \\\n",
       "1521       data/lvis/        palette  seesaw      27   0.026188   \n",
       "4351  data/objectnet/  letter opener  seesaw      68   0.001353   \n",
       "903        data/lvis/           coil  seesaw       5   0.005903   \n",
       "2496       data/lvis/         mitten  seesaw      73   0.070736   \n",
       "4574       data/lvis/   boxing glove  seesaw       8   0.007498   \n",
       "...               ...            ...     ...     ...        ...   \n",
       "2927       data/lvis/     bubble gum  seesaw       5   0.004941   \n",
       "1839       data/lvis/        puncher  seesaw       3   0.005566   \n",
       "3683       data/lvis/          radar  seesaw       5   0.005025   \n",
       "1047       data/lvis/          drill  seesaw      21   0.020751   \n",
       "2340       data/lvis/       matchbox  seesaw      12   0.011439   \n",
       "\n",
       "      reciprocal_12                                           nfound_x  \\\n",
       "1521       0.142857  [1, 2, 3, 4, 5, 6, 7, 8, 9, 10, 11, 12, 13, 14...   \n",
       "4351       0.166667  [1, 2, 3, 4, 5, 6, 7, 8, 9, 10, 11, 12, 13, 14...   \n",
       "903        0.166667                                    [1, 2, 3, 4, 5]   \n",
       "2496       0.333333  [1, 2, 3, 4, 5, 6, 7, 8, 9, 10, 11, 12, 13, 14...   \n",
       "4574       0.333333                           [1, 2, 3, 4, 5, 6, 7, 8]   \n",
       "...             ...                                                ...   \n",
       "2927       1.000000                                    [1, 2, 3, 4, 5]   \n",
       "1839       0.500000                                          [1, 2, 3]   \n",
       "3683       1.000000                                    [1, 2, 3, 4, 5]   \n",
       "1047       1.000000  [1, 2, 3, 4, 5, 6, 7, 8, 9, 10, 11, 12, 13, 14...   \n",
       "2340       1.000000            [1, 2, 3, 4, 5, 6, 7, 8, 9, 10, 11, 12]   \n",
       "\n",
       "      nfirst_x  base_reciprocal_12  \\\n",
       "1521      49.0            0.066667   \n",
       "4351       1.0            0.076923   \n",
       "903      183.0            0.076923   \n",
       "2496       1.0            0.142857   \n",
       "4574       1.0            0.142857   \n",
       "...        ...                 ...   \n",
       "2927       1.0            0.026316   \n",
       "1839       3.0            0.012987   \n",
       "3683       6.0            0.023256   \n",
       "1047       1.0            0.018519   \n",
       "2340       1.0            0.013514   \n",
       "\n",
       "                                               nfound_y  nfirst_y      base  \\\n",
       "1521  [1, 2, 3, 4, 5, 6, 7, 8, 9, 10, 11, 12, 13, 14...      15.0  0.066667   \n",
       "4351  [1, 2, 3, 4, 5, 6, 7, 8, 9, 10, 11, 12, 13, 14...       1.0  0.076923   \n",
       "903                                     [1, 2, 3, 4, 5]     190.0  0.076923   \n",
       "2496  [1, 2, 3, 4, 5, 6, 7, 8, 9, 10, 11, 12, 13, 14...       1.0  0.142857   \n",
       "4574                           [1, 2, 3, 4, 5, 6, 7, 8]       1.0  0.142857   \n",
       "...                                                 ...       ...       ...   \n",
       "2927                                    [1, 2, 3, 4, 5]      26.0  0.026316   \n",
       "1839                                          [1, 2, 3]      28.0  0.012987   \n",
       "3683                                    [1, 2, 3, 4, 5]      19.0  0.023256   \n",
       "1047  [1, 2, 3, 4, 5, 6, 7, 8, 9, 10, 11, 12, 13, 14...      25.0  0.018519   \n",
       "2340            [1, 2, 3, 4, 5, 6, 7, 8, 9, 10, 11, 12]       1.0  0.013514   \n",
       "\n",
       "          ratio     delta  better  worse   same  \n",
       "1521   2.142857  0.076190    True  False  False  \n",
       "4351   2.166667  0.089744    True  False  False  \n",
       "903    2.166667  0.089744    True  False  False  \n",
       "2496   2.333333  0.190476    True  False  False  \n",
       "4574   2.333333  0.190476    True  False  False  \n",
       "...         ...       ...     ...    ...    ...  \n",
       "2927  38.000000  0.973684    True  False  False  \n",
       "1839  38.500000  0.487013    True  False  False  \n",
       "3683  43.000000  0.976744    True  False  False  \n",
       "1047  54.000000  0.981481    True  False  False  \n",
       "2340  74.000000  0.986486    True  False  False  \n",
       "\n",
       "[152 rows x 17 columns]"
      ]
     },
     "execution_count": 59,
     "metadata": {},
     "output_type": "execute_result"
    }
   ],
   "source": [
    "by_metric"
   ]
  },
  {
   "cell_type": "code",
   "execution_count": 41,
   "id": "15b77198",
   "metadata": {
    "ExecuteTime": {
     "end_time": "2022-01-25T17:58:29.698041Z",
     "start_time": "2022-01-25T17:58:29.695043Z"
    }
   },
   "outputs": [],
   "source": [
    "tmp = stats[stats.category == 'goldfish']"
   ]
  },
  {
   "cell_type": "code",
   "execution_count": 50,
   "id": "ca6e3257",
   "metadata": {
    "ExecuteTime": {
     "end_time": "2022-01-25T18:03:56.043208Z",
     "start_time": "2022-01-25T18:03:56.041496Z"
    }
   },
   "outputs": [],
   "source": [
    "metrics = ['nfirst_batch', 'nfirst2second_batch']"
   ]
  },
  {
   "cell_type": "code",
   "execution_count": 51,
   "id": "648338b3",
   "metadata": {
    "ExecuteTime": {
     "end_time": "2022-01-25T18:03:56.868689Z",
     "start_time": "2022-01-25T18:03:56.867122Z"
    }
   },
   "outputs": [],
   "source": [
    "order_metric = 'nfirst2second_batch'"
   ]
  },
  {
   "cell_type": "code",
   "execution_count": 57,
   "id": "2e8b03b3",
   "metadata": {
    "ExecuteTime": {
     "end_time": "2022-01-25T18:05:19.452852Z",
     "start_time": "2022-01-25T18:05:19.444056Z"
    }
   },
   "outputs": [
    {
     "data": {
      "text/html": [
       "<div>\n",
       "<style scoped>\n",
       "    .dataframe tbody tr th:only-of-type {\n",
       "        vertical-align: middle;\n",
       "    }\n",
       "\n",
       "    .dataframe tbody tr th {\n",
       "        vertical-align: top;\n",
       "    }\n",
       "\n",
       "    .dataframe thead th {\n",
       "        text-align: right;\n",
       "    }\n",
       "</style>\n",
       "<table border=\"1\" class=\"dataframe\">\n",
       "  <thead>\n",
       "    <tr style=\"text-align: right;\">\n",
       "      <th></th>\n",
       "      <th>name</th>\n",
       "      <th>category</th>\n",
       "      <th>dataset</th>\n",
       "      <th>ntotal</th>\n",
       "      <th>abundance</th>\n",
       "      <th>session_path</th>\n",
       "      <th>nfirst_batch</th>\n",
       "      <th>nfirst2second_batch</th>\n",
       "    </tr>\n",
       "  </thead>\n",
       "  <tbody>\n",
       "    <tr>\n",
       "      <th>848</th>\n",
       "      <td>seesaw</td>\n",
       "      <td>goldfish</td>\n",
       "      <td>data/lvis/</td>\n",
       "      <td>3</td>\n",
       "      <td>0.003708</td>\n",
       "      <td>/home/gridsan/omoll/bench_results/bench_eQtGla...</td>\n",
       "      <td>0.0</td>\n",
       "      <td>39.0</td>\n",
       "    </tr>\n",
       "    <tr>\n",
       "      <th>2207</th>\n",
       "      <td>baseline</td>\n",
       "      <td>goldfish</td>\n",
       "      <td>data/lvis/</td>\n",
       "      <td>3</td>\n",
       "      <td>0.003708</td>\n",
       "      <td>/home/gridsan/omoll/bench_results/bench_eQtGla...</td>\n",
       "      <td>0.0</td>\n",
       "      <td>3.0</td>\n",
       "    </tr>\n",
       "    <tr>\n",
       "      <th>4032</th>\n",
       "      <td>multi</td>\n",
       "      <td>goldfish</td>\n",
       "      <td>data/lvis/</td>\n",
       "      <td>3</td>\n",
       "      <td>0.003708</td>\n",
       "      <td>/home/gridsan/omoll/bench_results/bench_eQtGla...</td>\n",
       "      <td>0.0</td>\n",
       "      <td>89.0</td>\n",
       "    </tr>\n",
       "  </tbody>\n",
       "</table>\n",
       "</div>"
      ],
      "text/plain": [
       "          name  category     dataset  ntotal  abundance  \\\n",
       "848     seesaw  goldfish  data/lvis/       3   0.003708   \n",
       "2207  baseline  goldfish  data/lvis/       3   0.003708   \n",
       "4032     multi  goldfish  data/lvis/       3   0.003708   \n",
       "\n",
       "                                           session_path  nfirst_batch  \\\n",
       "848   /home/gridsan/omoll/bench_results/bench_eQtGla...           0.0   \n",
       "2207  /home/gridsan/omoll/bench_results/bench_eQtGla...           0.0   \n",
       "4032  /home/gridsan/omoll/bench_results/bench_eQtGla...           0.0   \n",
       "\n",
       "      nfirst2second_batch  \n",
       "848                  39.0  \n",
       "2207                  3.0  \n",
       "4032                 89.0  "
      ]
     },
     "execution_count": 57,
     "metadata": {},
     "output_type": "execute_result"
    }
   ],
   "source": [
    "tmp[['name', 'category', 'dataset', 'ntotal', 'abundance', 'session_path'] + metrics]"
   ]
  },
  {
   "cell_type": "code",
   "execution_count": 47,
   "id": "de066a4d",
   "metadata": {
    "ExecuteTime": {
     "end_time": "2022-01-25T18:01:33.926381Z",
     "start_time": "2022-01-25T18:01:33.923770Z"
    }
   },
   "outputs": [
    {
     "name": "stdout",
     "output_type": "stream",
     "text": [
      "/home/gridsan/omoll/bench_results/bench_eQtGlaAAtM/session_20220124-175659_arvakczfvi/\n",
      "/home/gridsan/omoll/bench_results/bench_eQtGlaAAtM/session_20220124-173608_ovyhbgvkdl/\n",
      "/home/gridsan/omoll/bench_results/bench_eQtGlaAAtM/session_20220124-174439_ayevgtuxza/\n"
     ]
    }
   ],
   "source": [
    "for p in tmp.session_path.values:\n",
    "    print(p)"
   ]
  },
  {
   "cell_type": "code",
   "execution_count": null,
   "id": "7d4ba951",
   "metadata": {
    "ExecuteTime": {
     "end_time": "2021-11-09T00:51:50.284353Z",
     "start_time": "2021-11-09T00:51:49.986370Z"
    }
   },
   "outputs": [],
   "source": [
    "sbs = side_by_side_comparison(stats, 'plain', metric='ndcg_score')"
   ]
  },
  {
   "cell_type": "code",
   "execution_count": null,
   "id": "210f0a8d",
   "metadata": {
    "ExecuteTime": {
     "end_time": "2021-11-09T00:53:09.698049Z",
     "start_time": "2021-11-09T00:53:09.692967Z"
    }
   },
   "outputs": [],
   "source": [
    "sbs2 = sbs[(sbs.variant == variant)][['dataset', 'category', 'ndcg_score', 'base_ndcg_score', 'nfirst_x', 'nfirst_y', 'nfound_x', 'nfound_y']]"
   ]
  },
  {
   "cell_type": "code",
   "execution_count": null,
   "id": "8f7b26c8",
   "metadata": {
    "ExecuteTime": {
     "end_time": "2021-11-09T00:55:19.033374Z",
     "start_time": "2021-11-09T00:55:19.029321Z"
    }
   },
   "outputs": [],
   "source": [
    "sbs2[(sbs2.ndcg_score > 0) & (sbs2.base_ndcg_score == 0)].shape"
   ]
  },
  {
   "cell_type": "code",
   "execution_count": null,
   "id": "c5c63400",
   "metadata": {
    "ExecuteTime": {
     "end_time": "2021-11-09T00:55:22.077818Z",
     "start_time": "2021-11-09T00:55:22.064817Z"
    }
   },
   "outputs": [],
   "source": [
    "sbs2[(sbs2.ndcg_score == 0) & (sbs2.base_ndcg_score > 0)]"
   ]
  },
  {
   "cell_type": "code",
   "execution_count": null,
   "id": "e736beca",
   "metadata": {
    "ExecuteTime": {
     "end_time": "2021-11-08T21:23:15.136927Z",
     "start_time": "2021-11-08T21:23:14.377291Z"
    },
    "scrolled": false
   },
   "outputs": [],
   "source": [
    "variant='multiplain_warm_vec_only'\n",
    "print_tables(stats,variant=variant)"
   ]
  },
  {
   "cell_type": "code",
   "execution_count": null,
   "id": "913d643c",
   "metadata": {
    "ExecuteTime": {
     "end_time": "2021-11-07T17:11:37.296554Z",
     "start_time": "2021-11-07T17:11:36.131879Z"
    }
   },
   "outputs": [],
   "source": [
    "stats100_objnet_lrsmall,_ = process_tups(results_on1, at_N=100)"
   ]
  },
  {
   "cell_type": "code",
   "execution_count": null,
   "id": "533dbe6d",
   "metadata": {
    "ExecuteTime": {
     "end_time": "2021-11-07T17:12:03.037259Z",
     "start_time": "2021-11-07T17:12:02.401438Z"
    }
   },
   "outputs": [],
   "source": [
    "print_tables(stats100_objnet_lrsmall, variant='multiplain_warm_vec_fast')"
   ]
  },
  {
   "cell_type": "code",
   "execution_count": null,
   "id": "d5684410",
   "metadata": {},
   "outputs": [],
   "source": []
  },
  {
   "cell_type": "code",
   "execution_count": null,
   "id": "76740285",
   "metadata": {
    "ExecuteTime": {
     "end_time": "2021-11-07T16:37:19.838391Z",
     "start_time": "2021-11-07T16:37:12.921272Z"
    }
   },
   "outputs": [],
   "source": [
    "stats100_feedback10,_ = process_tups(new_results, at_N=100)"
   ]
  },
  {
   "cell_type": "code",
   "execution_count": null,
   "id": "95d4c33c",
   "metadata": {
    "ExecuteTime": {
     "end_time": "2021-11-07T16:37:43.233460Z",
     "start_time": "2021-11-07T16:37:42.446873Z"
    },
    "scrolled": false
   },
   "outputs": [],
   "source": [
    "print_tables(stats100_feedback10, variant='multiplain_warm_vec_fast')"
   ]
  },
  {
   "cell_type": "code",
   "execution_count": null,
   "id": "14c0b484",
   "metadata": {
    "ExecuteTime": {
     "end_time": "2021-11-07T17:16:19.831583Z",
     "start_time": "2021-11-07T17:16:19.821251Z"
    }
   },
   "outputs": [],
   "source": [
    "#stats100_feedback10"
   ]
  },
  {
   "cell_type": "code",
   "execution_count": null,
   "id": "26112f99",
   "metadata": {
    "ExecuteTime": {
     "end_time": "2021-11-07T15:51:12.808611Z",
     "start_time": "2021-11-07T15:51:12.075201Z"
    },
    "scrolled": false
   },
   "outputs": [],
   "source": [
    "print_tables(stats30, variant='multiplain_warm_vec_fast')"
   ]
  },
  {
   "cell_type": "code",
   "execution_count": null,
   "id": "7af87cbd",
   "metadata": {
    "ExecuteTime": {
     "end_time": "2021-11-07T15:46:29.119684Z",
     "start_time": "2021-11-07T15:46:28.378449Z"
    },
    "scrolled": false
   },
   "outputs": [],
   "source": [
    "print_tables(stats, variant='multiplain_warm_vec_fast')"
   ]
  },
  {
   "cell_type": "code",
   "execution_count": null,
   "id": "ff2be76e",
   "metadata": {
    "ExecuteTime": {
     "end_time": "2021-11-07T00:21:47.193964Z",
     "start_time": "2021-11-07T00:21:45.927083Z"
    },
    "scrolled": false
   },
   "outputs": [],
   "source": [
    "print_tables(stats, variant='multiplain_warm_vec_fast')"
   ]
  },
  {
   "cell_type": "code",
   "execution_count": null,
   "id": "f3ff4151",
   "metadata": {
    "ExecuteTime": {
     "end_time": "2021-11-04T05:20:51.581807Z",
     "start_time": "2021-11-04T05:20:16.998169Z"
    },
    "scrolled": false
   },
   "outputs": [],
   "source": [
    "print_tables(evs2, variant='multiplain_warm_vec_fast_new', resultlist=results, at_N=100)"
   ]
  },
  {
   "cell_type": "code",
   "execution_count": null,
   "id": "7fa11854",
   "metadata": {},
   "outputs": [],
   "source": [
    "Out[101]"
   ]
  },
  {
   "cell_type": "code",
   "execution_count": null,
   "id": "be55a94d",
   "metadata": {
    "ExecuteTime": {
     "end_time": "2021-11-04T04:37:13.974062Z",
     "start_time": "2021-11-04T04:36:47.650342Z"
    }
   },
   "outputs": [],
   "source": [
    "print_tables(evs2, variant='multiplain_warm_vec_fast', resultlist=results, at_N=100)"
   ]
  },
  {
   "cell_type": "code",
   "execution_count": null,
   "id": "e4a08039",
   "metadata": {
    "ExecuteTime": {
     "end_time": "2021-11-04T04:35:07.089030Z",
     "start_time": "2021-11-04T04:34:40.994750Z"
    },
    "scrolled": false
   },
   "outputs": [],
   "source": [
    "print_tables(evs2, variant='multiplain_warm_vec_fast', resultlist=results, at_N=30)"
   ]
  },
  {
   "cell_type": "code",
   "execution_count": null,
   "id": "5632dc96",
   "metadata": {
    "ExecuteTime": {
     "end_time": "2021-10-29T21:37:58.746285Z",
     "start_time": "2021-10-29T21:37:39.116494Z"
    }
   },
   "outputs": [],
   "source": [
    "stats = process_tups(evs=evs2, keys=evs.keys(), benchresults=benchresults, at_N=100)\n",
    "all_vars = stats.groupby(['dataset', 'category', 'variant',]).ndcg_score.mean().unstack(-1)\n",
    "means = all_vars.groupby('dataset').mean()\n",
    "counts = all_vars.groupby('dataset').size()\n",
    "pd.concat([means, counts],axis=1)"
   ]
  },
  {
   "cell_type": "code",
   "execution_count": null,
   "id": "c883db0a",
   "metadata": {
    "ExecuteTime": {
     "end_time": "2021-10-29T20:53:33.784208Z",
     "start_time": "2021-10-29T20:53:12.872699Z"
    }
   },
   "outputs": [],
   "source": [
    "stats = process_tups(evs=evs2, keys=evs.keys(), benchresults=benchresults, at_N=100)\n",
    "all_vars = stats.groupby(['dataset', 'category', 'variant',]).ndcg_score.mean().unstack(-1)\n",
    "means = all_vars.groupby('dataset').mean()\n",
    "counts = all_vars.groupby('dataset').size()\n",
    "pd.concat([means, counts],axis=1)"
   ]
  },
  {
   "cell_type": "code",
   "execution_count": null,
   "id": "b8a9ce61",
   "metadata": {
    "ExecuteTime": {
     "end_time": "2021-10-27T22:54:48.933926Z",
     "start_time": "2021-10-27T22:54:25.639407Z"
    }
   },
   "outputs": [],
   "source": [
    "stats = process_tups(evs=evs2, keys=evs.keys(), benchresults=benchresults, at_N=100)\n",
    "all_vars = stats.groupby(['dataset', 'category', 'variant',]).ndcg_score.mean().unstack(-1)\n",
    "means = all_vars.groupby('dataset').mean()\n",
    "counts = all_vars.groupby('dataset').size()\n",
    "pd.concat([means, counts],axis=1)"
   ]
  },
  {
   "cell_type": "code",
   "execution_count": null,
   "id": "6d7efcee",
   "metadata": {
    "ExecuteTime": {
     "end_time": "2021-10-30T20:37:28.253843Z",
     "start_time": "2021-10-30T20:37:28.177247Z"
    }
   },
   "outputs": [],
   "source": [
    "bsw_table(stats, reltol=1.1)"
   ]
  },
  {
   "cell_type": "code",
   "execution_count": null,
   "id": "2929bb61",
   "metadata": {
    "ExecuteTime": {
     "end_time": "2021-10-29T20:56:10.574318Z",
     "start_time": "2021-10-29T20:56:10.516155Z"
    }
   },
   "outputs": [],
   "source": [
    "bsw_table(stats, reltol=1.1)"
   ]
  },
  {
   "cell_type": "code",
   "execution_count": null,
   "id": "81ef641a",
   "metadata": {
    "ExecuteTime": {
     "end_time": "2021-10-27T22:57:58.178280Z",
     "start_time": "2021-10-27T22:57:54.614214Z"
    }
   },
   "outputs": [],
   "source": [
    "bsw_table(stats, reltol=1.1)"
   ]
  },
  {
   "cell_type": "code",
   "execution_count": null,
   "id": "e37e355d",
   "metadata": {
    "ExecuteTime": {
     "end_time": "2021-10-22T21:29:03.709474Z",
     "start_time": "2021-10-22T21:29:03.665510Z"
    }
   },
   "outputs": [],
   "source": [
    "bsw = bsw_table(stats)"
   ]
  },
  {
   "cell_type": "code",
   "execution_count": null,
   "id": "740b84a6",
   "metadata": {
    "ExecuteTime": {
     "end_time": "2021-10-27T22:58:15.659039Z",
     "start_time": "2021-10-27T22:58:15.625510Z"
    }
   },
   "outputs": [],
   "source": [
    "from seesaw "
   ]
  },
  {
   "cell_type": "code",
   "execution_count": null,
   "id": "575c02b2",
   "metadata": {},
   "outputs": [],
   "source": [
    "sbs = better_same_worse(stats, variant='multiplain_warm_vec_only', summary=False)"
   ]
  },
  {
   "cell_type": "code",
   "execution_count": null,
   "id": "b75995ed",
   "metadata": {
    "ExecuteTime": {
     "end_time": "2021-10-28T00:32:35.808455Z",
     "start_time": "2021-10-28T00:32:34.073065Z"
    }
   },
   "outputs": [],
   "source": [
    "tot_res = summary_breakdown(sbs)\n",
    "#.groupby(['dataset', 'variant']).category.apply(lambda x : x.unique().shape[0]).unstack(level=-1)"
   ]
  },
  {
   "cell_type": "code",
   "execution_count": null,
   "id": "66c14f0b",
   "metadata": {
    "ExecuteTime": {
     "end_time": "2021-10-27T23:14:28.263389Z",
     "start_time": "2021-10-27T23:14:28.222330Z"
    }
   },
   "outputs": [],
   "source": [
    "comparison_table(tot_res)"
   ]
  },
  {
   "cell_type": "code",
   "execution_count": null,
   "id": "6568a3a9",
   "metadata": {
    "ExecuteTime": {
     "end_time": "2021-10-27T23:21:14.433349Z",
     "start_time": "2021-10-27T23:21:13.644575Z"
    }
   },
   "outputs": [],
   "source": [
    "ablation_table(tot_res)"
   ]
  },
  {
   "cell_type": "code",
   "execution_count": null,
   "id": "87ad2cbd",
   "metadata": {
    "ExecuteTime": {
     "end_time": "2021-10-22T21:11:48.712657Z",
     "start_time": "2021-10-22T21:11:48.673252Z"
    }
   },
   "outputs": [],
   "source": [
    "ablation_table(tot_res)"
   ]
  },
  {
   "cell_type": "code",
   "execution_count": null,
   "id": "f6c0faa3",
   "metadata": {
    "ExecuteTime": {
     "end_time": "2021-10-28T00:33:28.993803Z",
     "start_time": "2021-10-28T00:33:28.938719Z"
    }
   },
   "outputs": [],
   "source": [
    "plotdata = sbs[sbs.variant == 'multiplain_warm_vec_only']"
   ]
  },
  {
   "cell_type": "code",
   "execution_count": null,
   "id": "5308714e",
   "metadata": {
    "ExecuteTime": {
     "end_time": "2021-10-31T04:05:25.279921Z",
     "start_time": "2021-10-31T04:05:24.502268Z"
    }
   },
   "outputs": [],
   "source": [
    "make_labeler.__module__"
   ]
  },
  {
   "cell_type": "code",
   "execution_count": null,
   "id": "f9feedc3",
   "metadata": {
    "ExecuteTime": {
     "end_time": "2021-10-28T00:33:38.155025Z",
     "start_time": "2021-10-28T00:33:36.996599Z"
    }
   },
   "outputs": [],
   "source": [
    "ablation_table(tot_res)\n",
    "\n",
    "x = np.geomspace(.02, 1, num=5)\n",
    "y = 1/x\n",
    "diag_df = pd.DataFrame({'x':x, 'y':y})\n",
    "\n",
    "scatterplot = (ggplot(plotdata)\n",
    "    + geom_point(aes(x='base', y='ratio', fill='dataset', color='dataset'), alpha=.6, size=1.) \n",
    "#                 shape=plotdata.dataset.map(lambda x : '.' if x in ['lvis','objectnet'] else 'o'), \n",
    "#                 size=plotdata.dataset.map(lambda x : 1. if x in ['lvis','objectnet'] else 2.))\n",
    "#  + geom_text(aes(x='base', y='delta', label='category', color='dataset'), va='bottom', \n",
    "#              data=plotdata1[plotdata1.ratio < .6], \n",
    "#              position=position_jitter(.05, .05), show_legend=False)\n",
    "    + geom_line(aes(x='x', y='y'), data=diag_df)\n",
    " + ylab('VSL/baseline')\n",
    "#               + geom_area(aes(y2=1.1, y=.9), linetype='dashed', alpha=.7)\n",
    "               + geom_hline(aes(yintercept=1.1), linetype='dashed', alpha=.7)\n",
    "               + geom_hline(aes(yintercept=.9), linetype='dashed', alpha=.7)\n",
    "\n",
    "\n",
    "                + geom_vline(aes(xintercept=.1,), linetype='dashed', alpha=.7)\n",
    "                + geom_vline(aes(xintercept=.3,), linetype='dashed', alpha=.7)\n",
    "#+ geom_abline()\n",
    "#    + geom_point(aes(x='recall', y='precision', color='variant'), size=1.)\n",
    "#     + facet_wrap(facets=['cat'], ncol=6, scales='free_x')\n",
    " + xlab('baseline NDCG')\n",
    "# +scale_color_discrete()\n",
    "    + theme(figure_size=(8,5), legend_position='top',\n",
    "           subplots_adjust={'hspace': 0.5}, legend_title=element_blank(),\n",
    "            legend_box_margin=-1, legend_margin=0.,\n",
    "            axis_text=element_text(size=12, margin={'t':.2, 'l':-.3}),\n",
    "            legend_text=element_text(size=11),\n",
    "            axis_title=element_text(size=12, margin={'r':-.2, 'b':0., 'l':0, 't':0.}),\n",
    "           )\n",
    "    + scale_x_log10(labels=make_labeler(brief_format), breaks=[.01, .1, .3, 1.])\n",
    "    + scale_y_log10(labels=make_labeler(brief_format), breaks=[.5, 0.9, 1.1, 2., 3.,6, 12])\n",
    ")\n",
    "\n",
    "scatterplot"
   ]
  },
  {
   "cell_type": "code",
   "execution_count": null,
   "id": "b0a95195",
   "metadata": {
    "ExecuteTime": {
     "end_time": "2021-10-28T00:39:03.550780Z",
     "start_time": "2021-10-28T00:39:01.618489Z"
    }
   },
   "outputs": [],
   "source": [
    "scatterplot.save('/home/gridsan/omoll/seesaw.scatterfull.png')"
   ]
  },
  {
   "cell_type": "code",
   "execution_count": null,
   "id": "65de8ac6",
   "metadata": {},
   "outputs": [],
   "source": []
  },
  {
   "cell_type": "code",
   "execution_count": null,
   "id": "91a465e7",
   "metadata": {
    "ExecuteTime": {
     "end_time": "2021-10-22T21:13:19.388896Z",
     "start_time": "2021-10-22T21:13:18.701916Z"
    }
   },
   "outputs": [],
   "source": [
    "x = np.geomspace(.02, 1, num=5)\n",
    "y = 1/x\n",
    "diag_df = pd.DataFrame({'x':x, 'y':y})\n",
    "\n",
    "scatterplot = (ggplot(plotdata)\n",
    "    + geom_point(aes(x='base', y='ratio', fill='dataset', color='dataset'), alpha=.6, size=1.) \n",
    "#                 shape=plotdata.dataset.map(lambda x : '.' if x in ['lvis','objectnet'] else 'o'), \n",
    "#                 size=plotdata.dataset.map(lambda x : 1. if x in ['lvis','objectnet'] else 2.))\n",
    "#  + geom_text(aes(x='base', y='delta', label='category', color='dataset'), va='bottom', \n",
    "#              data=plotdata1[plotdata1.ratio < .6], \n",
    "#              position=position_jitter(.05, .05), show_legend=False)\n",
    "    + geom_line(aes(x='x', y='y'), data=diag_df)\n",
    " + ylab('VSL/baseline')\n",
    "#               + geom_area(aes(y2=1.1, y=.9), linetype='dashed', alpha=.7)\n",
    "               + geom_hline(aes(yintercept=1.1), linetype='dashed', alpha=.7)\n",
    "               + geom_hline(aes(yintercept=.9), linetype='dashed', alpha=.7)\n",
    "\n",
    "\n",
    "                + geom_vline(aes(xintercept=.1,), linetype='dashed', alpha=.7)\n",
    "                + geom_vline(aes(xintercept=.3,), linetype='dashed', alpha=.7)\n",
    "#+ geom_abline()\n",
    "#    + geom_point(aes(x='recall', y='precision', color='variant'), size=1.)\n",
    "#     + facet_wrap(facets=['cat'], ncol=6, scales='free_x')\n",
    " + xlab('baseline NDCG')\n",
    "# +scale_color_discrete()\n",
    "    + theme(figure_size=(8,5), legend_position='top',\n",
    "           subplots_adjust={'hspace': 0.5}, legend_title=element_blank(),\n",
    "            legend_box_margin=-1, legend_margin=0.,\n",
    "            axis_text=element_text(size=12, margin={'t':.2, 'l':-.3}),\n",
    "            legend_text=element_text(size=11),\n",
    "            axis_title=element_text(size=12, margin={'r':-.2, 'b':0., 'l':0, 't':0.}),\n",
    "           )\n",
    "    + scale_x_log10(labels=make_labeler(brief_format), breaks=[.01, .1, .3, 1.])\n",
    "    + scale_y_log10(labels=make_labeler(brief_format), breaks=[.5, 0.9, 1.1, 2., 3.,6, 12])\n",
    ")\n",
    "\n",
    "scatterplot"
   ]
  },
  {
   "cell_type": "code",
   "execution_count": null,
   "id": "7e0e9764",
   "metadata": {
    "ExecuteTime": {
     "end_time": "2021-06-29T15:27:29.178944Z",
     "start_time": "2021-06-29T15:27:28.562813Z"
    }
   },
   "outputs": [],
   "source": [
    "cats = plotdata[plotdata.dataset == 'lvis'].sort_values('nfirst_y', ascending=False)[['category', 'nfirst_x', 'nfirst_y']].reset_index(drop=True)"
   ]
  },
  {
   "cell_type": "code",
   "execution_count": null,
   "id": "03007b6f",
   "metadata": {
    "ExecuteTime": {
     "end_time": "2021-06-29T15:27:40.718903Z",
     "start_time": "2021-06-29T15:27:40.662838Z"
    }
   },
   "outputs": [],
   "source": [
    "cats.to_parquet('./data/cats_lvis_ordered.parquet')"
   ]
  },
  {
   "cell_type": "code",
   "execution_count": null,
   "id": "4859b5d2",
   "metadata": {
    "ExecuteTime": {
     "end_time": "2021-06-30T18:33:06.160974Z",
     "start_time": "2021-06-30T18:33:06.103675Z"
    }
   },
   "outputs": [],
   "source": [
    "sbs[(sbs.nfirst_x <= 5) & (sbs.nfirst_y > 20) & (sbs.variant == 'multiplain_warm_vec_only')]"
   ]
  },
  {
   "cell_type": "code",
   "execution_count": null,
   "id": "93d8d5bf",
   "metadata": {
    "ExecuteTime": {
     "end_time": "2021-06-30T18:34:34.188038Z",
     "start_time": "2021-06-30T18:34:34.155300Z"
    }
   },
   "outputs": [],
   "source": [
    "# hot air balloon"
   ]
  },
  {
   "cell_type": "code",
   "execution_count": null,
   "id": "a21b3c19",
   "metadata": {},
   "outputs": [],
   "source": []
  }
 ],
 "metadata": {
  "kernelspec": {
   "display_name": "Python 3",
   "language": "python",
   "name": "python3"
  },
  "language_info": {
   "codemirror_mode": {
    "name": "ipython",
    "version": 3
   },
   "file_extension": ".py",
   "mimetype": "text/x-python",
   "name": "python",
   "nbconvert_exporter": "python",
   "pygments_lexer": "ipython3",
   "version": "3.8.11"
  },
  "toc": {
   "base_numbering": 1,
   "nav_menu": {},
   "number_sections": true,
   "sideBar": true,
   "skip_h1_title": false,
   "title_cell": "Table of Contents",
   "title_sidebar": "Contents",
   "toc_cell": false,
   "toc_position": {},
   "toc_section_display": true,
   "toc_window_display": false
  },
  "varInspector": {
   "cols": {
    "lenName": 16,
    "lenType": 16,
    "lenVar": 40
   },
   "kernels_config": {
    "python": {
     "delete_cmd_postfix": "",
     "delete_cmd_prefix": "del ",
     "library": "var_list.py",
     "varRefreshCmd": "print(var_dic_list())"
    },
    "r": {
     "delete_cmd_postfix": ") ",
     "delete_cmd_prefix": "rm(",
     "library": "var_list.r",
     "varRefreshCmd": "cat(var_dic_list()) "
    }
   },
   "types_to_exclude": [
    "module",
    "function",
    "builtin_function_or_method",
    "instance",
    "_Feature"
   ],
   "window_display": false
  }
 },
 "nbformat": 4,
 "nbformat_minor": 5
}
